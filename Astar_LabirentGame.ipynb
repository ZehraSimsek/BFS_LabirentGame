{
 "cells": [
  {
   "cell_type": "code",
   "execution_count": 1,
   "id": "20c86d82",
   "metadata": {},
   "outputs": [
    {
     "name": "stdout",
     "output_type": "stream",
     "text": [
      "pygame 2.5.2 (SDL 2.28.3, Python 3.11.5)\n",
      "Hello from the pygame community. https://www.pygame.org/contribute.html\n"
     ]
    }
   ],
   "source": [
    "import pygame\n",
    "import heapq\n",
    "from collections import deque\n",
    "\n",
    "# oyun penceresi ayarları\n",
    "width, height = 280, 280\n",
    "cellSize = 30 \n",
    "WIN = pygame.display.set_mode((width, height))"
   ]
  },
  {
   "cell_type": "code",
   "execution_count": 2,
   "id": "f3455732",
   "metadata": {},
   "outputs": [],
   "source": [
    "# oyun haritası\n",
    "labirent_map = [\n",
    "    ['#','#','#','#','#','#','#','#','#'],\n",
    "    ['#','S','.','.','.','.','.','.','#'],\n",
    "    ['#','.','#','#','#','.','#','#','#'],\n",
    "    ['#','.','.','.','#','.','.','#','#'],\n",
    "    ['#','#','#','.','#','.','.','.','#'],\n",
    "    ['#','.','.','.','.','.','#','.','#'],\n",
    "    ['#','E','#','#','#','#','#','.','#'],\n",
    "    ['#','.','.','.','.','.','.','.','#'],\n",
    "    ['#','#','#','#','#','#','#','#','#']\n",
    "]"
   ]
  },
  {
   "cell_type": "code",
   "execution_count": 3,
   "id": "cc17de4b",
   "metadata": {},
   "outputs": [],
   "source": [
    "# başlangıç ve bitişin konumu\n",
    "start, end = None, None\n",
    "for y, row in enumerate(labirent_map):\n",
    "    for x, cell in enumerate(row):\n",
    "        if cell == 'S':\n",
    "            start = (x, y)\n",
    "        elif cell == 'E':\n",
    "            end = (x, y)\n",
    "\n",
    "if start is None or end is None:\n",
    "    raise ValueError(\"Başlangıç veya bitiş noktaları bulunamadı.\")"
   ]
  },
  {
   "cell_type": "code",
   "execution_count": 4,
   "id": "56cacc3c",
   "metadata": {},
   "outputs": [],
   "source": [
    "# A* algoritması\n",
    "def heuristic_calculate(a, b):\n",
    "    return abs(b[0] - a[0]) + abs(b[1] - a[1])\n",
    "\n",
    "def a_star_shortest(labirent_map, start, end):\n",
    "    queue = []\n",
    "    heapq.heappush(queue, (0, start))\n",
    "    paths = {start: None}\n",
    "    g_score = {start: 0}\n",
    "    f_score = {start: heuristic_calculate(start, end)}\n",
    "\n",
    "    while queue:\n",
    "        current = heapq.heappop(queue)[1]\n",
    "\n",
    "        if current == end:\n",
    "            path = []\n",
    "            while current is not None:\n",
    "                path.append(current)\n",
    "                current = paths[current]\n",
    "            path.reverse()\n",
    "            return path\n",
    "\n",
    "        for zx, zy in ((-1, 0), (1, 0), (0, -1), (0, 1)):\n",
    "            x, y = current[0] + zx, current[1] + zy\n",
    "            if (0 <= x < len(labirent_map[0])) and (0 <= y < len(labirent_map)) and (labirent_map[y][x] != '#'):\n",
    "                new_g_score = g_score[current] + 1\n",
    "                if (x, y) not in g_score or new_g_score < g_score[(x, y)]:\n",
    "                    g_score[(x, y)] = new_g_score\n",
    "                    f_score[(x, y)] = new_g_score + heuristic_calculate((x, y), end)\n",
    "                    paths[(x, y)] = current\n",
    "                    heapq.heappush(queue, (f_score[(x, y)], (x, y)))\n",
    "                    \n",
    "path = a_star_shortest(labirent_map, start, end)"
   ]
  },
  {
   "cell_type": "code",
   "execution_count": 5,
   "id": "f9a3c9c8",
   "metadata": {},
   "outputs": [],
   "source": [
    "# oyun döngüsü\n",
    "done = False\n",
    "draw_path = False \n",
    "while not done:\n",
    "    for event in pygame.event.get():\n",
    "        if event.type == pygame.QUIT:\n",
    "            done = True\n",
    "        elif event.type == pygame.KEYDOWN:  \n",
    "            if event.key == pygame.K_SPACE: \n",
    "                draw_path = True\n",
    "\n",
    "    # oyun penceresini güncelleme\n",
    "    WIN.fill((255, 255, 255))  \n",
    "    for y in range(len(labirent_map)):\n",
    "        for x in range(len(labirent_map[y])):\n",
    "            if labirent_map[y][x] == '#':\n",
    "                pygame.draw.rect(WIN, (0, 0, 0), pygame.Rect(x * cellSize, y * cellSize, cellSize, cellSize))  \n",
    "            elif labirent_map[y][x] == 'S':\n",
    "                pygame.draw.rect(WIN, (255, 0, 0), pygame.Rect(x * cellSize, y * cellSize, cellSize, cellSize)) \n",
    "            elif labirent_map[y][x] == 'E':\n",
    "                pygame.draw.rect(WIN, (255, 255, 0), pygame.Rect(x * cellSize, y * cellSize, cellSize, cellSize))  \n",
    "            elif draw_path and (x, y) in path:\n",
    "                pygame.draw.rect(WIN, (0, 255, 0), pygame.Rect(x * cellSize, y * cellSize, cellSize, cellSize))  \n",
    "    pygame.display.update()\n",
    "\n",
    "pygame.quit()"
   ]
  },
  {
   "cell_type": "code",
   "execution_count": null,
   "id": "573edab9",
   "metadata": {},
   "outputs": [],
   "source": []
  }
 ],
 "metadata": {
  "kernelspec": {
   "display_name": "Python 3 (ipykernel)",
   "language": "python",
   "name": "python3"
  },
  "language_info": {
   "codemirror_mode": {
    "name": "ipython",
    "version": 3
   },
   "file_extension": ".py",
   "mimetype": "text/x-python",
   "name": "python",
   "nbconvert_exporter": "python",
   "pygments_lexer": "ipython3",
   "version": "3.11.5"
  }
 },
 "nbformat": 4,
 "nbformat_minor": 5
}
