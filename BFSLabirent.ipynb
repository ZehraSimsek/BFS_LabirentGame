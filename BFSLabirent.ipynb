{
 "cells": [
  {
   "cell_type": "code",
   "execution_count": 4,
   "id": "6bb97fc0",
   "metadata": {},
   "outputs": [],
   "source": [
    "import pygame\n",
    "import heapq\n",
    "from collections import deque\n",
    "\n",
    "# oyun penceresi ayarları\n",
    "width, height = 280, 280\n",
    "cellSize = 30 \n",
    "WIN = pygame.display.set_mode((width, height))"
   ]
  },
  {
   "cell_type": "code",
   "execution_count": 5,
   "id": "1bf5499c",
   "metadata": {},
   "outputs": [],
   "source": [
    "# oyun haritası\n",
    "labirent_map = [\n",
    "    ['#','#','#','#','#','#','#','#','#'],\n",
    "    ['#','S','.','.','.','.','.','.','#'],\n",
    "    ['#','.','#','#','#','.','#','#','#'],\n",
    "    ['#','.','.','.','#','.','.','#','#'],\n",
    "    ['#','#','#','.','#','.','.','.','#'],\n",
    "    ['#','.','.','.','.','.','#','.','#'],\n",
    "    ['#','E','#','#','#','#','#','.','#'],\n",
    "    ['#','.','.','.','.','.','.','.','#'],\n",
    "    ['#','#','#','#','#','#','#','#','#']\n",
    "]"
   ]
  },
  {
   "cell_type": "code",
   "execution_count": 6,
   "id": "cad315ae",
   "metadata": {},
   "outputs": [],
   "source": [
    "# başlangıç ve bitişin konumu\n",
    "start, end = None, None\n",
    "for y, row in enumerate(labirent_map):\n",
    "    for x, cell in enumerate(row):\n",
    "        if cell == 'S':\n",
    "            start = (x, y)\n",
    "        elif cell == 'E':\n",
    "            end = (x, y)\n",
    "\n",
    "if start is None or end is None:\n",
    "    raise ValueError(\"Başlangıç veya bitiş noktaları bulunamadı.\")\n"
   ]
  },
  {
   "cell_type": "code",
   "execution_count": 7,
   "id": "fbca933e",
   "metadata": {},
   "outputs": [],
   "source": [
    "# BFS algoritması\n",
    "def bfs_shortest(labirent_map, start, end):\n",
    "    queue = deque([[start]])\n",
    "    visited = set([start])\n",
    "    while queue:\n",
    "        path = queue.popleft()\n",
    "        x, y = path[-1]\n",
    "        if (x, y) == end:\n",
    "            return path\n",
    "        for x2, y2 in ((x+1, y), (x-1, y), (x, y+1), (x, y-1)):\n",
    "            if (0 <= x2 < len(labirent_map[0])) and (0 <= y2 < len(labirent_map)) and (labirent_map[y2][x2] != '#'):\n",
    "                if (x2, y2) not in visited:\n",
    "                    queue.append(path + [(x2, y2)])\n",
    "                    visited.add((x2, y2))\n",
    "                    \n",
    "path = bfs_shortest(labirent_map, start, end)"
   ]
  },
  {
   "cell_type": "code",
   "execution_count": 8,
   "id": "e6ba746c",
   "metadata": {},
   "outputs": [],
   "source": [
    "# oyun döngüsü\n",
    "done = False\n",
    "draw_path = False \n",
    "while not done:\n",
    "    for event in pygame.event.get():\n",
    "        if event.type == pygame.QUIT:\n",
    "            done = True\n",
    "        elif event.type == pygame.KEYDOWN:  \n",
    "            if event.key == pygame.K_SPACE: \n",
    "                draw_path = True\n",
    "\n",
    "    # oyun penceresini güncelleme\n",
    "    WIN.fill((255, 255, 255))  \n",
    "    for y in range(len(labirent_map)):\n",
    "        for x in range(len(labirent_map[y])):\n",
    "            if labirent_map[y][x] == '#':\n",
    "                pygame.draw.rect(WIN, (0, 0, 0), pygame.Rect(x * cellSize, y * cellSize, cellSize, cellSize))  \n",
    "            elif labirent_map[y][x] == 'S':\n",
    "                pygame.draw.rect(WIN, (255, 0, 0), pygame.Rect(x * cellSize, y * cellSize, cellSize, cellSize)) \n",
    "            elif labirent_map[y][x] == 'E':\n",
    "                pygame.draw.rect(WIN, (255, 255, 0), pygame.Rect(x * cellSize, y * cellSize, cellSize, cellSize))  \n",
    "            elif draw_path and (x, y) in path:\n",
    "                pygame.draw.rect(WIN, (0, 255, 0), pygame.Rect(x * cellSize, y * cellSize, cellSize, cellSize))  \n",
    "    pygame.display.update()\n",
    "\n",
    "pygame.quit()"
   ]
  },
  {
   "cell_type": "code",
   "execution_count": null,
   "id": "b0f8028a",
   "metadata": {},
   "outputs": [],
   "source": []
  }
 ],
 "metadata": {
  "kernelspec": {
   "display_name": "Python 3 (ipykernel)",
   "language": "python",
   "name": "python3"
  },
  "language_info": {
   "codemirror_mode": {
    "name": "ipython",
    "version": 3
   },
   "file_extension": ".py",
   "mimetype": "text/x-python",
   "name": "python",
   "nbconvert_exporter": "python",
   "pygments_lexer": "ipython3",
   "version": "3.11.5"
  }
 },
 "nbformat": 4,
 "nbformat_minor": 5
}
